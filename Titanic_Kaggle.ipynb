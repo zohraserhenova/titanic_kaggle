{
  "nbformat": 4,
  "nbformat_minor": 0,
  "metadata": {
    "colab": {
      "provenance": []
    },
    "kernelspec": {
      "name": "python3",
      "display_name": "Python 3"
    },
    "language_info": {
      "name": "python"
    }
  },
  "cells": [
    {
      "cell_type": "code",
      "execution_count": null,
      "metadata": {
        "colab": {
          "base_uri": "https://localhost:8080/"
        },
        "id": "SnCSoA739gHj",
        "outputId": "aa8dde0e-304d-4933-9591-4217f3887b7d"
      },
      "outputs": [
        {
          "output_type": "stream",
          "name": "stdout",
          "text": [
            "Mounted at /content/drive\n"
          ]
        }
      ],
      "source": [
        "from google.colab import drive\n",
        "drive.mount('/content/drive')"
      ]
    },
    {
      "cell_type": "code",
      "source": [
        "import pandas as pd\n",
        "from sklearn.ensemble import RandomForestClassifier\n",
        "from sklearn.model_selection import train_test_split, GridSearchCV, StratifiedKFold\n",
        "from sklearn.metrics import accuracy_score\n",
        "from sklearn.impute import SimpleImputer\n",
        "from sklearn.preprocessing import OneHotEncoder\n",
        "from sklearn.compose import ColumnTransformer\n",
        "from sklearn.pipeline import Pipeline"
      ],
      "metadata": {
        "id": "24nSgOFP9tDx"
      },
      "execution_count": null,
      "outputs": []
    },
    {
      "cell_type": "code",
      "source": [
        "# Load the training data\n",
        "train_data = pd.read_csv('/content/drive/MyDrive/titanic/train.csv')"
      ],
      "metadata": {
        "id": "1YXyTtVI9yCZ"
      },
      "execution_count": null,
      "outputs": []
    },
    {
      "cell_type": "code",
      "source": [
        "# Preprocessing: Extract features and handle missing values\n",
        "features = ['Pclass', 'Sex', 'Age', 'Fare', 'Embarked']\n",
        "target = 'Survived'\n",
        "train_data = train_data[features + [target]]\n",
        "train_data['Sex'] = train_data['Sex'].map({'female': 0, 'male': 1})\n",
        "\n",
        "# Imputation transformer for the Age feature\n",
        "age_imputer = SimpleImputer(strategy='mean')\n",
        "\n",
        "# One-hot encoding transformer for the Embarked feature\n",
        "one_hot_encoder = OneHotEncoder(handle_unknown='ignore')\n",
        "\n",
        "# Column transformer for the Age and Embarked features\n",
        "preprocessor = ColumnTransformer(transformers=[\n",
        "    ('age_imputer', age_imputer, ['Age']),\n",
        "    ('one_hot_encoder', one_hot_encoder, ['Embarked'])\n",
        "], remainder='passthrough')\n",
        "\n",
        "# Split the data into training and validation sets\n",
        "X = train_data[features]\n",
        "y = train_data[target]\n",
        "X_train, X_val, y_train, y_val = train_test_split(X, y, test_size=0.2, random_state=42)\n",
        "\n",
        "# Define the model\n",
        "model = RandomForestClassifier(random_state=42)\n",
        "\n",
        "# Define the pipeline\n",
        "pipeline = Pipeline(steps=[\n",
        "    ('preprocessor', preprocessor),\n",
        "    ('model', model)\n",
        "])\n",
        "\n",
        "# Hyperparameter tuning using grid search\n",
        "param_grid = {\n",
        "    'model__n_estimators': [100, 200, 300],\n",
        "    'model__max_depth': [None, 5, 10],\n",
        "    'model__min_samples_split': [2, 5, 10],\n",
        "    'model__min_samples_leaf': [1, 2, 4]\n",
        "}\n",
        "\n",
        "stratified_kfold = StratifiedKFold(n_splits=5)\n",
        "\n",
        "grid_search = GridSearchCV(pipeline, param_grid, cv=stratified_kfold, scoring='accuracy')\n",
        "grid_search.fit(X_train, y_train)\n",
        "\n",
        "# Retrieve the best hyperparameters and the best model\n",
        "best_params = grid_search.best_params_\n",
        "best_model = grid_search.best_estimator_\n",
        "\n",
        "# Evaluate the best model on the validation set\n",
        "y_pred = best_model.predict(X_val)\n",
        "accuracy = accuracy_score(y_val, y_pred)\n",
        "print(f'Validation Accuracy: {accuracy}')"
      ],
      "metadata": {
        "colab": {
          "base_uri": "https://localhost:8080/"
        },
        "id": "GZKYyHMQ92FB",
        "outputId": "d06357ae-5196-41c0-bff5-5811e9d49aba"
      },
      "execution_count": null,
      "outputs": [
        {
          "output_type": "stream",
          "name": "stderr",
          "text": [
            "<ipython-input-4-16d296471cc4>:5: SettingWithCopyWarning: \n",
            "A value is trying to be set on a copy of a slice from a DataFrame.\n",
            "Try using .loc[row_indexer,col_indexer] = value instead\n",
            "\n",
            "See the caveats in the documentation: https://pandas.pydata.org/pandas-docs/stable/user_guide/indexing.html#returning-a-view-versus-a-copy\n",
            "  train_data['Sex'] = train_data['Sex'].map({'female': 0, 'male': 1})\n"
          ]
        },
        {
          "output_type": "stream",
          "name": "stdout",
          "text": [
            "Validation Accuracy: 0.8268156424581006\n"
          ]
        }
      ]
    },
    {
      "cell_type": "code",
      "source": [
        "# Load the test data\n",
        "test_data = pd.read_csv('/content/drive/MyDrive/titanic/test.csv')"
      ],
      "metadata": {
        "id": "fmHvRc6U-BpY"
      },
      "execution_count": null,
      "outputs": []
    },
    {
      "cell_type": "code",
      "source": [
        "# Preprocessing: Handle missing values and transform features\n",
        "test_data['Sex'] = test_data['Sex'].map({'female': 0, 'male': 1})\n",
        "test_data = test_data[features].fillna(test_data[features].mean())\n",
        "\n",
        "# Make predictions on the test set using the best model\n",
        "test_predictions = best_model.predict(test_data)"
      ],
      "metadata": {
        "colab": {
          "base_uri": "https://localhost:8080/"
        },
        "id": "PKduv1C5-FzY",
        "outputId": "0cc4d826-0f79-4e4c-e712-48fed9c65e53"
      },
      "execution_count": null,
      "outputs": [
        {
          "output_type": "stream",
          "name": "stderr",
          "text": [
            "<ipython-input-14-f47c1bd13bb9>:3: FutureWarning: The default value of numeric_only in DataFrame.mean is deprecated. In a future version, it will default to False. In addition, specifying 'numeric_only=None' is deprecated. Select only valid columns or specify the value of numeric_only to silence this warning.\n",
            "  test_data = test_data[features].fillna(test_data[features].mean())\n"
          ]
        }
      ]
    },
    {
      "cell_type": "code",
      "source": [
        "# Create a submission file\n",
        "submission = pd.read_csv('/content/drive/MyDrive/titanic/gender_submission.csv')\n",
        "submission['Survived'] = test_predictions\n",
        "submission.to_csv('submission5.csv', index=False)"
      ],
      "metadata": {
        "id": "Emo3CgdC-IqJ"
      },
      "execution_count": null,
      "outputs": []
    }
  ]
}